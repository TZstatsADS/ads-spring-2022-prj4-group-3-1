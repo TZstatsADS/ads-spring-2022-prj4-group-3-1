{
 "cells": [
  {
   "cell_type": "code",
   "execution_count": 43,
   "id": "3b3539c6",
   "metadata": {
    "id": "3b3539c6"
   },
   "outputs": [],
   "source": [
    "# Import required packages\n",
    "import numpy as np\n",
    "import pandas as pd\n",
    "import cv2 as cv2\n",
    "import matplotlib.pyplot as plt\n",
    "from sklearn.metrics import classification_report, roc_auc_score, accuracy_score, f1_score, confusion_matrix\n",
    "from sklearn.linear_model import LogisticRegression\n",
    "from sklearn import preprocessing\n",
    "from sklearn.model_selection import train_test_split\n",
    "import time\n",
    "import scipy.optimize as optim\n",
    "import copy\n",
    "import random\n",
    "import pickle\n",
    "from IPython.display import Markdown, display\n",
    "import seaborn as sns\n",
    "import matplotlib.patches as patches"
   ]
  },
  {
   "cell_type": "markdown",
   "id": "34598b27",
   "metadata": {
    "id": "34598b27"
   },
   "source": [
    "## 1) Load the dataset"
   ]
  },
  {
   "cell_type": "markdown",
   "id": "d5b27c36",
   "metadata": {
    "id": "d5b27c36"
   },
   "source": [
    "For this project we are using the COMPAS-scores-two-years dataset, a COMPAS dataset that contains the criminal history, jail and prison time, demographics, and COMPAS risk scores for defendants from Broward county from 2013 and 2014, as well as the ground truth on whether or not these individuals actually recidivated within two years after the screening.  \n",
    "\n",
    "There are 7214 data in total."
   ]
  },
  {
   "cell_type": "code",
   "execution_count": 2,
   "id": "83ba3aa9",
   "metadata": {
    "id": "83ba3aa9"
   },
   "outputs": [],
   "source": [
    "raw_data = pd.read_csv('../data/compas-scores-two-years.csv')"
   ]
  },
  {
   "cell_type": "code",
   "execution_count": 3,
   "id": "a1222925",
   "metadata": {
    "colab": {
     "base_uri": "https://localhost:8080/",
     "height": 661
    },
    "id": "a1222925",
    "outputId": "15e765f8-e770-4e69-e230-78cfabeff20d"
   },
   "outputs": [
    {
     "data": {
      "text/html": [
       "<div>\n",
       "<style scoped>\n",
       "    .dataframe tbody tr th:only-of-type {\n",
       "        vertical-align: middle;\n",
       "    }\n",
       "\n",
       "    .dataframe tbody tr th {\n",
       "        vertical-align: top;\n",
       "    }\n",
       "\n",
       "    .dataframe thead th {\n",
       "        text-align: right;\n",
       "    }\n",
       "</style>\n",
       "<table border=\"1\" class=\"dataframe\">\n",
       "  <thead>\n",
       "    <tr style=\"text-align: right;\">\n",
       "      <th></th>\n",
       "      <th>id</th>\n",
       "      <th>name</th>\n",
       "      <th>first</th>\n",
       "      <th>last</th>\n",
       "      <th>compas_screening_date</th>\n",
       "      <th>sex</th>\n",
       "      <th>dob</th>\n",
       "      <th>age</th>\n",
       "      <th>age_cat</th>\n",
       "      <th>race</th>\n",
       "      <th>...</th>\n",
       "      <th>v_decile_score</th>\n",
       "      <th>v_score_text</th>\n",
       "      <th>v_screening_date</th>\n",
       "      <th>in_custody</th>\n",
       "      <th>out_custody</th>\n",
       "      <th>priors_count.1</th>\n",
       "      <th>start</th>\n",
       "      <th>end</th>\n",
       "      <th>event</th>\n",
       "      <th>two_year_recid</th>\n",
       "    </tr>\n",
       "  </thead>\n",
       "  <tbody>\n",
       "    <tr>\n",
       "      <th>0</th>\n",
       "      <td>1</td>\n",
       "      <td>miguel hernandez</td>\n",
       "      <td>miguel</td>\n",
       "      <td>hernandez</td>\n",
       "      <td>2013-08-14</td>\n",
       "      <td>Male</td>\n",
       "      <td>1947-04-18</td>\n",
       "      <td>69</td>\n",
       "      <td>Greater than 45</td>\n",
       "      <td>Other</td>\n",
       "      <td>...</td>\n",
       "      <td>1</td>\n",
       "      <td>Low</td>\n",
       "      <td>2013-08-14</td>\n",
       "      <td>2014-07-07</td>\n",
       "      <td>2014-07-14</td>\n",
       "      <td>0</td>\n",
       "      <td>0</td>\n",
       "      <td>327</td>\n",
       "      <td>0</td>\n",
       "      <td>0</td>\n",
       "    </tr>\n",
       "    <tr>\n",
       "      <th>1</th>\n",
       "      <td>3</td>\n",
       "      <td>kevon dixon</td>\n",
       "      <td>kevon</td>\n",
       "      <td>dixon</td>\n",
       "      <td>2013-01-27</td>\n",
       "      <td>Male</td>\n",
       "      <td>1982-01-22</td>\n",
       "      <td>34</td>\n",
       "      <td>25 - 45</td>\n",
       "      <td>African-American</td>\n",
       "      <td>...</td>\n",
       "      <td>1</td>\n",
       "      <td>Low</td>\n",
       "      <td>2013-01-27</td>\n",
       "      <td>2013-01-26</td>\n",
       "      <td>2013-02-05</td>\n",
       "      <td>0</td>\n",
       "      <td>9</td>\n",
       "      <td>159</td>\n",
       "      <td>1</td>\n",
       "      <td>1</td>\n",
       "    </tr>\n",
       "    <tr>\n",
       "      <th>2</th>\n",
       "      <td>4</td>\n",
       "      <td>ed philo</td>\n",
       "      <td>ed</td>\n",
       "      <td>philo</td>\n",
       "      <td>2013-04-14</td>\n",
       "      <td>Male</td>\n",
       "      <td>1991-05-14</td>\n",
       "      <td>24</td>\n",
       "      <td>Less than 25</td>\n",
       "      <td>African-American</td>\n",
       "      <td>...</td>\n",
       "      <td>3</td>\n",
       "      <td>Low</td>\n",
       "      <td>2013-04-14</td>\n",
       "      <td>2013-06-16</td>\n",
       "      <td>2013-06-16</td>\n",
       "      <td>4</td>\n",
       "      <td>0</td>\n",
       "      <td>63</td>\n",
       "      <td>0</td>\n",
       "      <td>1</td>\n",
       "    </tr>\n",
       "    <tr>\n",
       "      <th>3</th>\n",
       "      <td>5</td>\n",
       "      <td>marcu brown</td>\n",
       "      <td>marcu</td>\n",
       "      <td>brown</td>\n",
       "      <td>2013-01-13</td>\n",
       "      <td>Male</td>\n",
       "      <td>1993-01-21</td>\n",
       "      <td>23</td>\n",
       "      <td>Less than 25</td>\n",
       "      <td>African-American</td>\n",
       "      <td>...</td>\n",
       "      <td>6</td>\n",
       "      <td>Medium</td>\n",
       "      <td>2013-01-13</td>\n",
       "      <td>NaN</td>\n",
       "      <td>NaN</td>\n",
       "      <td>1</td>\n",
       "      <td>0</td>\n",
       "      <td>1174</td>\n",
       "      <td>0</td>\n",
       "      <td>0</td>\n",
       "    </tr>\n",
       "    <tr>\n",
       "      <th>4</th>\n",
       "      <td>6</td>\n",
       "      <td>bouthy pierrelouis</td>\n",
       "      <td>bouthy</td>\n",
       "      <td>pierrelouis</td>\n",
       "      <td>2013-03-26</td>\n",
       "      <td>Male</td>\n",
       "      <td>1973-01-22</td>\n",
       "      <td>43</td>\n",
       "      <td>25 - 45</td>\n",
       "      <td>Other</td>\n",
       "      <td>...</td>\n",
       "      <td>1</td>\n",
       "      <td>Low</td>\n",
       "      <td>2013-03-26</td>\n",
       "      <td>NaN</td>\n",
       "      <td>NaN</td>\n",
       "      <td>2</td>\n",
       "      <td>0</td>\n",
       "      <td>1102</td>\n",
       "      <td>0</td>\n",
       "      <td>0</td>\n",
       "    </tr>\n",
       "    <tr>\n",
       "      <th>...</th>\n",
       "      <td>...</td>\n",
       "      <td>...</td>\n",
       "      <td>...</td>\n",
       "      <td>...</td>\n",
       "      <td>...</td>\n",
       "      <td>...</td>\n",
       "      <td>...</td>\n",
       "      <td>...</td>\n",
       "      <td>...</td>\n",
       "      <td>...</td>\n",
       "      <td>...</td>\n",
       "      <td>...</td>\n",
       "      <td>...</td>\n",
       "      <td>...</td>\n",
       "      <td>...</td>\n",
       "      <td>...</td>\n",
       "      <td>...</td>\n",
       "      <td>...</td>\n",
       "      <td>...</td>\n",
       "      <td>...</td>\n",
       "      <td>...</td>\n",
       "    </tr>\n",
       "    <tr>\n",
       "      <th>7209</th>\n",
       "      <td>10996</td>\n",
       "      <td>steven butler</td>\n",
       "      <td>steven</td>\n",
       "      <td>butler</td>\n",
       "      <td>2013-11-23</td>\n",
       "      <td>Male</td>\n",
       "      <td>1992-07-17</td>\n",
       "      <td>23</td>\n",
       "      <td>Less than 25</td>\n",
       "      <td>African-American</td>\n",
       "      <td>...</td>\n",
       "      <td>5</td>\n",
       "      <td>Medium</td>\n",
       "      <td>2013-11-23</td>\n",
       "      <td>2013-11-22</td>\n",
       "      <td>2013-11-24</td>\n",
       "      <td>0</td>\n",
       "      <td>1</td>\n",
       "      <td>860</td>\n",
       "      <td>0</td>\n",
       "      <td>0</td>\n",
       "    </tr>\n",
       "    <tr>\n",
       "      <th>7210</th>\n",
       "      <td>10997</td>\n",
       "      <td>malcolm simmons</td>\n",
       "      <td>malcolm</td>\n",
       "      <td>simmons</td>\n",
       "      <td>2014-02-01</td>\n",
       "      <td>Male</td>\n",
       "      <td>1993-03-25</td>\n",
       "      <td>23</td>\n",
       "      <td>Less than 25</td>\n",
       "      <td>African-American</td>\n",
       "      <td>...</td>\n",
       "      <td>5</td>\n",
       "      <td>Medium</td>\n",
       "      <td>2014-02-01</td>\n",
       "      <td>2014-01-31</td>\n",
       "      <td>2014-02-02</td>\n",
       "      <td>0</td>\n",
       "      <td>1</td>\n",
       "      <td>790</td>\n",
       "      <td>0</td>\n",
       "      <td>0</td>\n",
       "    </tr>\n",
       "    <tr>\n",
       "      <th>7211</th>\n",
       "      <td>10999</td>\n",
       "      <td>winston gregory</td>\n",
       "      <td>winston</td>\n",
       "      <td>gregory</td>\n",
       "      <td>2014-01-14</td>\n",
       "      <td>Male</td>\n",
       "      <td>1958-10-01</td>\n",
       "      <td>57</td>\n",
       "      <td>Greater than 45</td>\n",
       "      <td>Other</td>\n",
       "      <td>...</td>\n",
       "      <td>1</td>\n",
       "      <td>Low</td>\n",
       "      <td>2014-01-14</td>\n",
       "      <td>2014-01-13</td>\n",
       "      <td>2014-01-14</td>\n",
       "      <td>0</td>\n",
       "      <td>0</td>\n",
       "      <td>808</td>\n",
       "      <td>0</td>\n",
       "      <td>0</td>\n",
       "    </tr>\n",
       "    <tr>\n",
       "      <th>7212</th>\n",
       "      <td>11000</td>\n",
       "      <td>farrah jean</td>\n",
       "      <td>farrah</td>\n",
       "      <td>jean</td>\n",
       "      <td>2014-03-09</td>\n",
       "      <td>Female</td>\n",
       "      <td>1982-11-17</td>\n",
       "      <td>33</td>\n",
       "      <td>25 - 45</td>\n",
       "      <td>African-American</td>\n",
       "      <td>...</td>\n",
       "      <td>2</td>\n",
       "      <td>Low</td>\n",
       "      <td>2014-03-09</td>\n",
       "      <td>2014-03-08</td>\n",
       "      <td>2014-03-09</td>\n",
       "      <td>3</td>\n",
       "      <td>0</td>\n",
       "      <td>754</td>\n",
       "      <td>0</td>\n",
       "      <td>0</td>\n",
       "    </tr>\n",
       "    <tr>\n",
       "      <th>7213</th>\n",
       "      <td>11001</td>\n",
       "      <td>florencia sanmartin</td>\n",
       "      <td>florencia</td>\n",
       "      <td>sanmartin</td>\n",
       "      <td>2014-06-30</td>\n",
       "      <td>Female</td>\n",
       "      <td>1992-12-18</td>\n",
       "      <td>23</td>\n",
       "      <td>Less than 25</td>\n",
       "      <td>Hispanic</td>\n",
       "      <td>...</td>\n",
       "      <td>4</td>\n",
       "      <td>Low</td>\n",
       "      <td>2014-06-30</td>\n",
       "      <td>2015-03-15</td>\n",
       "      <td>2015-03-15</td>\n",
       "      <td>2</td>\n",
       "      <td>0</td>\n",
       "      <td>258</td>\n",
       "      <td>0</td>\n",
       "      <td>1</td>\n",
       "    </tr>\n",
       "  </tbody>\n",
       "</table>\n",
       "<p>7214 rows × 53 columns</p>\n",
       "</div>"
      ],
      "text/plain": [
       "         id                 name      first         last  \\\n",
       "0         1     miguel hernandez     miguel    hernandez   \n",
       "1         3          kevon dixon      kevon        dixon   \n",
       "2         4             ed philo         ed        philo   \n",
       "3         5          marcu brown      marcu        brown   \n",
       "4         6   bouthy pierrelouis     bouthy  pierrelouis   \n",
       "...     ...                  ...        ...          ...   \n",
       "7209  10996        steven butler     steven       butler   \n",
       "7210  10997      malcolm simmons    malcolm      simmons   \n",
       "7211  10999      winston gregory    winston      gregory   \n",
       "7212  11000          farrah jean     farrah         jean   \n",
       "7213  11001  florencia sanmartin  florencia    sanmartin   \n",
       "\n",
       "     compas_screening_date     sex         dob  age          age_cat  \\\n",
       "0               2013-08-14    Male  1947-04-18   69  Greater than 45   \n",
       "1               2013-01-27    Male  1982-01-22   34          25 - 45   \n",
       "2               2013-04-14    Male  1991-05-14   24     Less than 25   \n",
       "3               2013-01-13    Male  1993-01-21   23     Less than 25   \n",
       "4               2013-03-26    Male  1973-01-22   43          25 - 45   \n",
       "...                    ...     ...         ...  ...              ...   \n",
       "7209            2013-11-23    Male  1992-07-17   23     Less than 25   \n",
       "7210            2014-02-01    Male  1993-03-25   23     Less than 25   \n",
       "7211            2014-01-14    Male  1958-10-01   57  Greater than 45   \n",
       "7212            2014-03-09  Female  1982-11-17   33          25 - 45   \n",
       "7213            2014-06-30  Female  1992-12-18   23     Less than 25   \n",
       "\n",
       "                  race  ...  v_decile_score  v_score_text  v_screening_date  \\\n",
       "0                Other  ...               1           Low        2013-08-14   \n",
       "1     African-American  ...               1           Low        2013-01-27   \n",
       "2     African-American  ...               3           Low        2013-04-14   \n",
       "3     African-American  ...               6        Medium        2013-01-13   \n",
       "4                Other  ...               1           Low        2013-03-26   \n",
       "...                ...  ...             ...           ...               ...   \n",
       "7209  African-American  ...               5        Medium        2013-11-23   \n",
       "7210  African-American  ...               5        Medium        2014-02-01   \n",
       "7211             Other  ...               1           Low        2014-01-14   \n",
       "7212  African-American  ...               2           Low        2014-03-09   \n",
       "7213          Hispanic  ...               4           Low        2014-06-30   \n",
       "\n",
       "      in_custody  out_custody  priors_count.1 start   end event two_year_recid  \n",
       "0     2014-07-07   2014-07-14               0     0   327     0              0  \n",
       "1     2013-01-26   2013-02-05               0     9   159     1              1  \n",
       "2     2013-06-16   2013-06-16               4     0    63     0              1  \n",
       "3            NaN          NaN               1     0  1174     0              0  \n",
       "4            NaN          NaN               2     0  1102     0              0  \n",
       "...          ...          ...             ...   ...   ...   ...            ...  \n",
       "7209  2013-11-22   2013-11-24               0     1   860     0              0  \n",
       "7210  2014-01-31   2014-02-02               0     1   790     0              0  \n",
       "7211  2014-01-13   2014-01-14               0     0   808     0              0  \n",
       "7212  2014-03-08   2014-03-09               3     0   754     0              0  \n",
       "7213  2015-03-15   2015-03-15               2     0   258     0              1  \n",
       "\n",
       "[7214 rows x 53 columns]"
      ]
     },
     "execution_count": 3,
     "metadata": {},
     "output_type": "execute_result"
    }
   ],
   "source": [
    "raw_data"
   ]
  },
  {
   "cell_type": "markdown",
   "id": "746babc8",
   "metadata": {
    "id": "746babc8"
   },
   "source": [
    "## 2) Data processing"
   ]
  },
  {
   "cell_type": "markdown",
   "id": "590caf9b",
   "metadata": {
    "id": "590caf9b"
   },
   "source": [
    "### 2.1) Subset of data with race \"African-American\" or \"Caucasian\""
   ]
  },
  {
   "cell_type": "markdown",
   "id": "d226e8f4",
   "metadata": {
    "id": "d226e8f4"
   },
   "source": [
    "We want to keep only the rows of the dataset that correspond to \"African-American\" or \"Caucasian\" race."
   ]
  },
  {
   "cell_type": "code",
   "execution_count": 4,
   "id": "24ee5c35",
   "metadata": {
    "colab": {
     "base_uri": "https://localhost:8080/"
    },
    "id": "24ee5c35",
    "outputId": "d8ddfde2-265e-4892-da77-b690391798dd"
   },
   "outputs": [
    {
     "name": "stdout",
     "output_type": "stream",
     "text": [
      "The dataset includes defendants of the following races: ['Other' 'African-American' 'Caucasian' 'Hispanic' 'Native American'\n",
      " 'Asian']\n"
     ]
    }
   ],
   "source": [
    "print(\"The dataset includes defendants of the following races: {}\".format(raw_data['race'].unique()))"
   ]
  },
  {
   "cell_type": "code",
   "execution_count": 5,
   "id": "ae73d5fb",
   "metadata": {
    "id": "ae73d5fb"
   },
   "outputs": [],
   "source": [
    "processed_data = raw_data.loc[raw_data['race'].isin([\"African-American\", \"Caucasian\"])]"
   ]
  },
  {
   "cell_type": "code",
   "execution_count": 6,
   "id": "45983cb1",
   "metadata": {
    "colab": {
     "base_uri": "https://localhost:8080/"
    },
    "id": "45983cb1",
    "outputId": "2a2149c5-119c-46fe-f872-fc94134fec65"
   },
   "outputs": [
    {
     "name": "stdout",
     "output_type": "stream",
     "text": [
      "The original dataset includes 6150 African-American and Caucasian defendants.\n"
     ]
    }
   ],
   "source": [
    "print(\"The original dataset includes {} African-American and Caucasian defendants.\".format(processed_data.shape[0]))"
   ]
  },
  {
   "cell_type": "code",
   "execution_count": 7,
   "id": "5bea4441",
   "metadata": {
    "colab": {
     "base_uri": "https://localhost:8080/",
     "height": 661
    },
    "id": "5bea4441",
    "outputId": "03d0c25a-705a-40e9-97ea-476fd0dfe439"
   },
   "outputs": [
    {
     "data": {
      "text/html": [
       "<div>\n",
       "<style scoped>\n",
       "    .dataframe tbody tr th:only-of-type {\n",
       "        vertical-align: middle;\n",
       "    }\n",
       "\n",
       "    .dataframe tbody tr th {\n",
       "        vertical-align: top;\n",
       "    }\n",
       "\n",
       "    .dataframe thead th {\n",
       "        text-align: right;\n",
       "    }\n",
       "</style>\n",
       "<table border=\"1\" class=\"dataframe\">\n",
       "  <thead>\n",
       "    <tr style=\"text-align: right;\">\n",
       "      <th></th>\n",
       "      <th>id</th>\n",
       "      <th>name</th>\n",
       "      <th>first</th>\n",
       "      <th>last</th>\n",
       "      <th>compas_screening_date</th>\n",
       "      <th>sex</th>\n",
       "      <th>dob</th>\n",
       "      <th>age</th>\n",
       "      <th>age_cat</th>\n",
       "      <th>race</th>\n",
       "      <th>...</th>\n",
       "      <th>v_decile_score</th>\n",
       "      <th>v_score_text</th>\n",
       "      <th>v_screening_date</th>\n",
       "      <th>in_custody</th>\n",
       "      <th>out_custody</th>\n",
       "      <th>priors_count.1</th>\n",
       "      <th>start</th>\n",
       "      <th>end</th>\n",
       "      <th>event</th>\n",
       "      <th>two_year_recid</th>\n",
       "    </tr>\n",
       "  </thead>\n",
       "  <tbody>\n",
       "    <tr>\n",
       "      <th>1</th>\n",
       "      <td>3</td>\n",
       "      <td>kevon dixon</td>\n",
       "      <td>kevon</td>\n",
       "      <td>dixon</td>\n",
       "      <td>2013-01-27</td>\n",
       "      <td>Male</td>\n",
       "      <td>1982-01-22</td>\n",
       "      <td>34</td>\n",
       "      <td>25 - 45</td>\n",
       "      <td>African-American</td>\n",
       "      <td>...</td>\n",
       "      <td>1</td>\n",
       "      <td>Low</td>\n",
       "      <td>2013-01-27</td>\n",
       "      <td>2013-01-26</td>\n",
       "      <td>2013-02-05</td>\n",
       "      <td>0</td>\n",
       "      <td>9</td>\n",
       "      <td>159</td>\n",
       "      <td>1</td>\n",
       "      <td>1</td>\n",
       "    </tr>\n",
       "    <tr>\n",
       "      <th>2</th>\n",
       "      <td>4</td>\n",
       "      <td>ed philo</td>\n",
       "      <td>ed</td>\n",
       "      <td>philo</td>\n",
       "      <td>2013-04-14</td>\n",
       "      <td>Male</td>\n",
       "      <td>1991-05-14</td>\n",
       "      <td>24</td>\n",
       "      <td>Less than 25</td>\n",
       "      <td>African-American</td>\n",
       "      <td>...</td>\n",
       "      <td>3</td>\n",
       "      <td>Low</td>\n",
       "      <td>2013-04-14</td>\n",
       "      <td>2013-06-16</td>\n",
       "      <td>2013-06-16</td>\n",
       "      <td>4</td>\n",
       "      <td>0</td>\n",
       "      <td>63</td>\n",
       "      <td>0</td>\n",
       "      <td>1</td>\n",
       "    </tr>\n",
       "    <tr>\n",
       "      <th>3</th>\n",
       "      <td>5</td>\n",
       "      <td>marcu brown</td>\n",
       "      <td>marcu</td>\n",
       "      <td>brown</td>\n",
       "      <td>2013-01-13</td>\n",
       "      <td>Male</td>\n",
       "      <td>1993-01-21</td>\n",
       "      <td>23</td>\n",
       "      <td>Less than 25</td>\n",
       "      <td>African-American</td>\n",
       "      <td>...</td>\n",
       "      <td>6</td>\n",
       "      <td>Medium</td>\n",
       "      <td>2013-01-13</td>\n",
       "      <td>NaN</td>\n",
       "      <td>NaN</td>\n",
       "      <td>1</td>\n",
       "      <td>0</td>\n",
       "      <td>1174</td>\n",
       "      <td>0</td>\n",
       "      <td>0</td>\n",
       "    </tr>\n",
       "    <tr>\n",
       "      <th>6</th>\n",
       "      <td>8</td>\n",
       "      <td>edward riddle</td>\n",
       "      <td>edward</td>\n",
       "      <td>riddle</td>\n",
       "      <td>2014-02-19</td>\n",
       "      <td>Male</td>\n",
       "      <td>1974-07-23</td>\n",
       "      <td>41</td>\n",
       "      <td>25 - 45</td>\n",
       "      <td>Caucasian</td>\n",
       "      <td>...</td>\n",
       "      <td>2</td>\n",
       "      <td>Low</td>\n",
       "      <td>2014-02-19</td>\n",
       "      <td>2014-03-31</td>\n",
       "      <td>2014-04-18</td>\n",
       "      <td>14</td>\n",
       "      <td>5</td>\n",
       "      <td>40</td>\n",
       "      <td>1</td>\n",
       "      <td>1</td>\n",
       "    </tr>\n",
       "    <tr>\n",
       "      <th>8</th>\n",
       "      <td>10</td>\n",
       "      <td>elizabeth thieme</td>\n",
       "      <td>elizabeth</td>\n",
       "      <td>thieme</td>\n",
       "      <td>2014-03-16</td>\n",
       "      <td>Female</td>\n",
       "      <td>1976-06-03</td>\n",
       "      <td>39</td>\n",
       "      <td>25 - 45</td>\n",
       "      <td>Caucasian</td>\n",
       "      <td>...</td>\n",
       "      <td>1</td>\n",
       "      <td>Low</td>\n",
       "      <td>2014-03-16</td>\n",
       "      <td>2014-03-15</td>\n",
       "      <td>2014-03-18</td>\n",
       "      <td>0</td>\n",
       "      <td>2</td>\n",
       "      <td>747</td>\n",
       "      <td>0</td>\n",
       "      <td>0</td>\n",
       "    </tr>\n",
       "    <tr>\n",
       "      <th>...</th>\n",
       "      <td>...</td>\n",
       "      <td>...</td>\n",
       "      <td>...</td>\n",
       "      <td>...</td>\n",
       "      <td>...</td>\n",
       "      <td>...</td>\n",
       "      <td>...</td>\n",
       "      <td>...</td>\n",
       "      <td>...</td>\n",
       "      <td>...</td>\n",
       "      <td>...</td>\n",
       "      <td>...</td>\n",
       "      <td>...</td>\n",
       "      <td>...</td>\n",
       "      <td>...</td>\n",
       "      <td>...</td>\n",
       "      <td>...</td>\n",
       "      <td>...</td>\n",
       "      <td>...</td>\n",
       "      <td>...</td>\n",
       "      <td>...</td>\n",
       "    </tr>\n",
       "    <tr>\n",
       "      <th>7207</th>\n",
       "      <td>10994</td>\n",
       "      <td>jarred payne</td>\n",
       "      <td>jarred</td>\n",
       "      <td>payne</td>\n",
       "      <td>2014-05-10</td>\n",
       "      <td>Male</td>\n",
       "      <td>1985-07-31</td>\n",
       "      <td>30</td>\n",
       "      <td>25 - 45</td>\n",
       "      <td>African-American</td>\n",
       "      <td>...</td>\n",
       "      <td>2</td>\n",
       "      <td>Low</td>\n",
       "      <td>2014-05-10</td>\n",
       "      <td>2015-10-22</td>\n",
       "      <td>2015-10-22</td>\n",
       "      <td>0</td>\n",
       "      <td>0</td>\n",
       "      <td>529</td>\n",
       "      <td>1</td>\n",
       "      <td>1</td>\n",
       "    </tr>\n",
       "    <tr>\n",
       "      <th>7208</th>\n",
       "      <td>10995</td>\n",
       "      <td>raheem smith</td>\n",
       "      <td>raheem</td>\n",
       "      <td>smith</td>\n",
       "      <td>2013-10-20</td>\n",
       "      <td>Male</td>\n",
       "      <td>1995-06-28</td>\n",
       "      <td>20</td>\n",
       "      <td>Less than 25</td>\n",
       "      <td>African-American</td>\n",
       "      <td>...</td>\n",
       "      <td>9</td>\n",
       "      <td>High</td>\n",
       "      <td>2013-10-20</td>\n",
       "      <td>2014-04-07</td>\n",
       "      <td>2014-04-27</td>\n",
       "      <td>0</td>\n",
       "      <td>0</td>\n",
       "      <td>169</td>\n",
       "      <td>0</td>\n",
       "      <td>0</td>\n",
       "    </tr>\n",
       "    <tr>\n",
       "      <th>7209</th>\n",
       "      <td>10996</td>\n",
       "      <td>steven butler</td>\n",
       "      <td>steven</td>\n",
       "      <td>butler</td>\n",
       "      <td>2013-11-23</td>\n",
       "      <td>Male</td>\n",
       "      <td>1992-07-17</td>\n",
       "      <td>23</td>\n",
       "      <td>Less than 25</td>\n",
       "      <td>African-American</td>\n",
       "      <td>...</td>\n",
       "      <td>5</td>\n",
       "      <td>Medium</td>\n",
       "      <td>2013-11-23</td>\n",
       "      <td>2013-11-22</td>\n",
       "      <td>2013-11-24</td>\n",
       "      <td>0</td>\n",
       "      <td>1</td>\n",
       "      <td>860</td>\n",
       "      <td>0</td>\n",
       "      <td>0</td>\n",
       "    </tr>\n",
       "    <tr>\n",
       "      <th>7210</th>\n",
       "      <td>10997</td>\n",
       "      <td>malcolm simmons</td>\n",
       "      <td>malcolm</td>\n",
       "      <td>simmons</td>\n",
       "      <td>2014-02-01</td>\n",
       "      <td>Male</td>\n",
       "      <td>1993-03-25</td>\n",
       "      <td>23</td>\n",
       "      <td>Less than 25</td>\n",
       "      <td>African-American</td>\n",
       "      <td>...</td>\n",
       "      <td>5</td>\n",
       "      <td>Medium</td>\n",
       "      <td>2014-02-01</td>\n",
       "      <td>2014-01-31</td>\n",
       "      <td>2014-02-02</td>\n",
       "      <td>0</td>\n",
       "      <td>1</td>\n",
       "      <td>790</td>\n",
       "      <td>0</td>\n",
       "      <td>0</td>\n",
       "    </tr>\n",
       "    <tr>\n",
       "      <th>7212</th>\n",
       "      <td>11000</td>\n",
       "      <td>farrah jean</td>\n",
       "      <td>farrah</td>\n",
       "      <td>jean</td>\n",
       "      <td>2014-03-09</td>\n",
       "      <td>Female</td>\n",
       "      <td>1982-11-17</td>\n",
       "      <td>33</td>\n",
       "      <td>25 - 45</td>\n",
       "      <td>African-American</td>\n",
       "      <td>...</td>\n",
       "      <td>2</td>\n",
       "      <td>Low</td>\n",
       "      <td>2014-03-09</td>\n",
       "      <td>2014-03-08</td>\n",
       "      <td>2014-03-09</td>\n",
       "      <td>3</td>\n",
       "      <td>0</td>\n",
       "      <td>754</td>\n",
       "      <td>0</td>\n",
       "      <td>0</td>\n",
       "    </tr>\n",
       "  </tbody>\n",
       "</table>\n",
       "<p>6150 rows × 53 columns</p>\n",
       "</div>"
      ],
      "text/plain": [
       "         id              name      first     last compas_screening_date  \\\n",
       "1         3       kevon dixon      kevon    dixon            2013-01-27   \n",
       "2         4          ed philo         ed    philo            2013-04-14   \n",
       "3         5       marcu brown      marcu    brown            2013-01-13   \n",
       "6         8     edward riddle     edward   riddle            2014-02-19   \n",
       "8        10  elizabeth thieme  elizabeth   thieme            2014-03-16   \n",
       "...     ...               ...        ...      ...                   ...   \n",
       "7207  10994      jarred payne     jarred    payne            2014-05-10   \n",
       "7208  10995      raheem smith     raheem    smith            2013-10-20   \n",
       "7209  10996     steven butler     steven   butler            2013-11-23   \n",
       "7210  10997   malcolm simmons    malcolm  simmons            2014-02-01   \n",
       "7212  11000       farrah jean     farrah     jean            2014-03-09   \n",
       "\n",
       "         sex         dob  age       age_cat              race  ...  \\\n",
       "1       Male  1982-01-22   34       25 - 45  African-American  ...   \n",
       "2       Male  1991-05-14   24  Less than 25  African-American  ...   \n",
       "3       Male  1993-01-21   23  Less than 25  African-American  ...   \n",
       "6       Male  1974-07-23   41       25 - 45         Caucasian  ...   \n",
       "8     Female  1976-06-03   39       25 - 45         Caucasian  ...   \n",
       "...      ...         ...  ...           ...               ...  ...   \n",
       "7207    Male  1985-07-31   30       25 - 45  African-American  ...   \n",
       "7208    Male  1995-06-28   20  Less than 25  African-American  ...   \n",
       "7209    Male  1992-07-17   23  Less than 25  African-American  ...   \n",
       "7210    Male  1993-03-25   23  Less than 25  African-American  ...   \n",
       "7212  Female  1982-11-17   33       25 - 45  African-American  ...   \n",
       "\n",
       "      v_decile_score  v_score_text  v_screening_date  in_custody  out_custody  \\\n",
       "1                  1           Low        2013-01-27  2013-01-26   2013-02-05   \n",
       "2                  3           Low        2013-04-14  2013-06-16   2013-06-16   \n",
       "3                  6        Medium        2013-01-13         NaN          NaN   \n",
       "6                  2           Low        2014-02-19  2014-03-31   2014-04-18   \n",
       "8                  1           Low        2014-03-16  2014-03-15   2014-03-18   \n",
       "...              ...           ...               ...         ...          ...   \n",
       "7207               2           Low        2014-05-10  2015-10-22   2015-10-22   \n",
       "7208               9          High        2013-10-20  2014-04-07   2014-04-27   \n",
       "7209               5        Medium        2013-11-23  2013-11-22   2013-11-24   \n",
       "7210               5        Medium        2014-02-01  2014-01-31   2014-02-02   \n",
       "7212               2           Low        2014-03-09  2014-03-08   2014-03-09   \n",
       "\n",
       "      priors_count.1 start   end event two_year_recid  \n",
       "1                  0     9   159     1              1  \n",
       "2                  4     0    63     0              1  \n",
       "3                  1     0  1174     0              0  \n",
       "6                 14     5    40     1              1  \n",
       "8                  0     2   747     0              0  \n",
       "...              ...   ...   ...   ...            ...  \n",
       "7207               0     0   529     1              1  \n",
       "7208               0     0   169     0              0  \n",
       "7209               0     1   860     0              0  \n",
       "7210               0     1   790     0              0  \n",
       "7212               3     0   754     0              0  \n",
       "\n",
       "[6150 rows x 53 columns]"
      ]
     },
     "execution_count": 7,
     "metadata": {},
     "output_type": "execute_result"
    }
   ],
   "source": [
    "processed_data"
   ]
  },
  {
   "cell_type": "markdown",
   "id": "b5dbe287",
   "metadata": {
    "id": "b5dbe287"
   },
   "source": [
    "### 2.2) Remove unuseful data"
   ]
  },
  {
   "cell_type": "markdown",
   "id": "742e7b0f",
   "metadata": {
    "id": "742e7b0f"
   },
   "source": [
    "Remove unuseful columns (columns with multiple missing data)."
   ]
  },
  {
   "cell_type": "code",
   "execution_count": 8,
   "id": "23353847",
   "metadata": {
    "id": "23353847"
   },
   "outputs": [],
   "source": [
    "processed_data = processed_data[['sex', 'age', 'age_cat', 'race', 'decile_score', 'juv_fel_count', 'juv_misd_count', 'juv_other_count',\n",
    "            'priors_count', 'days_b_screening_arrest', 'c_jail_in', 'c_jail_out', 'c_charge_degree', 'is_recid', \n",
    "             'score_text', 'two_year_recid']]"
   ]
  },
  {
   "cell_type": "code",
   "execution_count": 9,
   "id": "72341df4",
   "metadata": {
    "colab": {
     "base_uri": "https://localhost:8080/",
     "height": 818
    },
    "id": "72341df4",
    "outputId": "25b09a29-27b2-473e-d4e4-6ac9aab72909"
   },
   "outputs": [
    {
     "data": {
      "text/html": [
       "<div>\n",
       "<style scoped>\n",
       "    .dataframe tbody tr th:only-of-type {\n",
       "        vertical-align: middle;\n",
       "    }\n",
       "\n",
       "    .dataframe tbody tr th {\n",
       "        vertical-align: top;\n",
       "    }\n",
       "\n",
       "    .dataframe thead th {\n",
       "        text-align: right;\n",
       "    }\n",
       "</style>\n",
       "<table border=\"1\" class=\"dataframe\">\n",
       "  <thead>\n",
       "    <tr style=\"text-align: right;\">\n",
       "      <th></th>\n",
       "      <th>sex</th>\n",
       "      <th>age</th>\n",
       "      <th>age_cat</th>\n",
       "      <th>race</th>\n",
       "      <th>decile_score</th>\n",
       "      <th>juv_fel_count</th>\n",
       "      <th>juv_misd_count</th>\n",
       "      <th>juv_other_count</th>\n",
       "      <th>priors_count</th>\n",
       "      <th>days_b_screening_arrest</th>\n",
       "      <th>c_jail_in</th>\n",
       "      <th>c_jail_out</th>\n",
       "      <th>c_charge_degree</th>\n",
       "      <th>is_recid</th>\n",
       "      <th>score_text</th>\n",
       "      <th>two_year_recid</th>\n",
       "    </tr>\n",
       "  </thead>\n",
       "  <tbody>\n",
       "    <tr>\n",
       "      <th>1</th>\n",
       "      <td>Male</td>\n",
       "      <td>34</td>\n",
       "      <td>25 - 45</td>\n",
       "      <td>African-American</td>\n",
       "      <td>3</td>\n",
       "      <td>0</td>\n",
       "      <td>0</td>\n",
       "      <td>0</td>\n",
       "      <td>0</td>\n",
       "      <td>-1.0</td>\n",
       "      <td>2013-01-26 03:45:27</td>\n",
       "      <td>2013-02-05 05:36:53</td>\n",
       "      <td>F</td>\n",
       "      <td>1</td>\n",
       "      <td>Low</td>\n",
       "      <td>1</td>\n",
       "    </tr>\n",
       "    <tr>\n",
       "      <th>2</th>\n",
       "      <td>Male</td>\n",
       "      <td>24</td>\n",
       "      <td>Less than 25</td>\n",
       "      <td>African-American</td>\n",
       "      <td>4</td>\n",
       "      <td>0</td>\n",
       "      <td>0</td>\n",
       "      <td>1</td>\n",
       "      <td>4</td>\n",
       "      <td>-1.0</td>\n",
       "      <td>2013-04-13 04:58:34</td>\n",
       "      <td>2013-04-14 07:02:04</td>\n",
       "      <td>F</td>\n",
       "      <td>1</td>\n",
       "      <td>Low</td>\n",
       "      <td>1</td>\n",
       "    </tr>\n",
       "    <tr>\n",
       "      <th>3</th>\n",
       "      <td>Male</td>\n",
       "      <td>23</td>\n",
       "      <td>Less than 25</td>\n",
       "      <td>African-American</td>\n",
       "      <td>8</td>\n",
       "      <td>0</td>\n",
       "      <td>1</td>\n",
       "      <td>0</td>\n",
       "      <td>1</td>\n",
       "      <td>NaN</td>\n",
       "      <td>NaN</td>\n",
       "      <td>NaN</td>\n",
       "      <td>F</td>\n",
       "      <td>0</td>\n",
       "      <td>High</td>\n",
       "      <td>0</td>\n",
       "    </tr>\n",
       "    <tr>\n",
       "      <th>6</th>\n",
       "      <td>Male</td>\n",
       "      <td>41</td>\n",
       "      <td>25 - 45</td>\n",
       "      <td>Caucasian</td>\n",
       "      <td>6</td>\n",
       "      <td>0</td>\n",
       "      <td>0</td>\n",
       "      <td>0</td>\n",
       "      <td>14</td>\n",
       "      <td>-1.0</td>\n",
       "      <td>2014-02-18 05:08:24</td>\n",
       "      <td>2014-02-24 12:18:30</td>\n",
       "      <td>F</td>\n",
       "      <td>1</td>\n",
       "      <td>Medium</td>\n",
       "      <td>1</td>\n",
       "    </tr>\n",
       "    <tr>\n",
       "      <th>8</th>\n",
       "      <td>Female</td>\n",
       "      <td>39</td>\n",
       "      <td>25 - 45</td>\n",
       "      <td>Caucasian</td>\n",
       "      <td>1</td>\n",
       "      <td>0</td>\n",
       "      <td>0</td>\n",
       "      <td>0</td>\n",
       "      <td>0</td>\n",
       "      <td>-1.0</td>\n",
       "      <td>2014-03-15 05:35:34</td>\n",
       "      <td>2014-03-18 04:28:46</td>\n",
       "      <td>M</td>\n",
       "      <td>0</td>\n",
       "      <td>Low</td>\n",
       "      <td>0</td>\n",
       "    </tr>\n",
       "    <tr>\n",
       "      <th>...</th>\n",
       "      <td>...</td>\n",
       "      <td>...</td>\n",
       "      <td>...</td>\n",
       "      <td>...</td>\n",
       "      <td>...</td>\n",
       "      <td>...</td>\n",
       "      <td>...</td>\n",
       "      <td>...</td>\n",
       "      <td>...</td>\n",
       "      <td>...</td>\n",
       "      <td>...</td>\n",
       "      <td>...</td>\n",
       "      <td>...</td>\n",
       "      <td>...</td>\n",
       "      <td>...</td>\n",
       "      <td>...</td>\n",
       "    </tr>\n",
       "    <tr>\n",
       "      <th>7207</th>\n",
       "      <td>Male</td>\n",
       "      <td>30</td>\n",
       "      <td>25 - 45</td>\n",
       "      <td>African-American</td>\n",
       "      <td>2</td>\n",
       "      <td>0</td>\n",
       "      <td>0</td>\n",
       "      <td>0</td>\n",
       "      <td>0</td>\n",
       "      <td>-1.0</td>\n",
       "      <td>2014-05-09 10:01:33</td>\n",
       "      <td>2014-05-10 08:28:12</td>\n",
       "      <td>M</td>\n",
       "      <td>1</td>\n",
       "      <td>Low</td>\n",
       "      <td>1</td>\n",
       "    </tr>\n",
       "    <tr>\n",
       "      <th>7208</th>\n",
       "      <td>Male</td>\n",
       "      <td>20</td>\n",
       "      <td>Less than 25</td>\n",
       "      <td>African-American</td>\n",
       "      <td>9</td>\n",
       "      <td>0</td>\n",
       "      <td>0</td>\n",
       "      <td>0</td>\n",
       "      <td>0</td>\n",
       "      <td>-1.0</td>\n",
       "      <td>2013-10-19 11:17:15</td>\n",
       "      <td>2013-10-20 08:13:06</td>\n",
       "      <td>F</td>\n",
       "      <td>0</td>\n",
       "      <td>High</td>\n",
       "      <td>0</td>\n",
       "    </tr>\n",
       "    <tr>\n",
       "      <th>7209</th>\n",
       "      <td>Male</td>\n",
       "      <td>23</td>\n",
       "      <td>Less than 25</td>\n",
       "      <td>African-American</td>\n",
       "      <td>7</td>\n",
       "      <td>0</td>\n",
       "      <td>0</td>\n",
       "      <td>0</td>\n",
       "      <td>0</td>\n",
       "      <td>-1.0</td>\n",
       "      <td>2013-11-22 05:18:27</td>\n",
       "      <td>2013-11-24 02:59:20</td>\n",
       "      <td>F</td>\n",
       "      <td>0</td>\n",
       "      <td>Medium</td>\n",
       "      <td>0</td>\n",
       "    </tr>\n",
       "    <tr>\n",
       "      <th>7210</th>\n",
       "      <td>Male</td>\n",
       "      <td>23</td>\n",
       "      <td>Less than 25</td>\n",
       "      <td>African-American</td>\n",
       "      <td>3</td>\n",
       "      <td>0</td>\n",
       "      <td>0</td>\n",
       "      <td>0</td>\n",
       "      <td>0</td>\n",
       "      <td>-1.0</td>\n",
       "      <td>2014-01-31 07:13:54</td>\n",
       "      <td>2014-02-02 04:03:52</td>\n",
       "      <td>F</td>\n",
       "      <td>0</td>\n",
       "      <td>Low</td>\n",
       "      <td>0</td>\n",
       "    </tr>\n",
       "    <tr>\n",
       "      <th>7212</th>\n",
       "      <td>Female</td>\n",
       "      <td>33</td>\n",
       "      <td>25 - 45</td>\n",
       "      <td>African-American</td>\n",
       "      <td>2</td>\n",
       "      <td>0</td>\n",
       "      <td>0</td>\n",
       "      <td>0</td>\n",
       "      <td>3</td>\n",
       "      <td>-1.0</td>\n",
       "      <td>2014-03-08 08:06:02</td>\n",
       "      <td>2014-03-09 12:18:04</td>\n",
       "      <td>M</td>\n",
       "      <td>0</td>\n",
       "      <td>Low</td>\n",
       "      <td>0</td>\n",
       "    </tr>\n",
       "  </tbody>\n",
       "</table>\n",
       "<p>6150 rows × 16 columns</p>\n",
       "</div>"
      ],
      "text/plain": [
       "         sex  age       age_cat              race  decile_score  \\\n",
       "1       Male   34       25 - 45  African-American             3   \n",
       "2       Male   24  Less than 25  African-American             4   \n",
       "3       Male   23  Less than 25  African-American             8   \n",
       "6       Male   41       25 - 45         Caucasian             6   \n",
       "8     Female   39       25 - 45         Caucasian             1   \n",
       "...      ...  ...           ...               ...           ...   \n",
       "7207    Male   30       25 - 45  African-American             2   \n",
       "7208    Male   20  Less than 25  African-American             9   \n",
       "7209    Male   23  Less than 25  African-American             7   \n",
       "7210    Male   23  Less than 25  African-American             3   \n",
       "7212  Female   33       25 - 45  African-American             2   \n",
       "\n",
       "      juv_fel_count  juv_misd_count  juv_other_count  priors_count  \\\n",
       "1                 0               0                0             0   \n",
       "2                 0               0                1             4   \n",
       "3                 0               1                0             1   \n",
       "6                 0               0                0            14   \n",
       "8                 0               0                0             0   \n",
       "...             ...             ...              ...           ...   \n",
       "7207              0               0                0             0   \n",
       "7208              0               0                0             0   \n",
       "7209              0               0                0             0   \n",
       "7210              0               0                0             0   \n",
       "7212              0               0                0             3   \n",
       "\n",
       "      days_b_screening_arrest            c_jail_in           c_jail_out  \\\n",
       "1                        -1.0  2013-01-26 03:45:27  2013-02-05 05:36:53   \n",
       "2                        -1.0  2013-04-13 04:58:34  2013-04-14 07:02:04   \n",
       "3                         NaN                  NaN                  NaN   \n",
       "6                        -1.0  2014-02-18 05:08:24  2014-02-24 12:18:30   \n",
       "8                        -1.0  2014-03-15 05:35:34  2014-03-18 04:28:46   \n",
       "...                       ...                  ...                  ...   \n",
       "7207                     -1.0  2014-05-09 10:01:33  2014-05-10 08:28:12   \n",
       "7208                     -1.0  2013-10-19 11:17:15  2013-10-20 08:13:06   \n",
       "7209                     -1.0  2013-11-22 05:18:27  2013-11-24 02:59:20   \n",
       "7210                     -1.0  2014-01-31 07:13:54  2014-02-02 04:03:52   \n",
       "7212                     -1.0  2014-03-08 08:06:02  2014-03-09 12:18:04   \n",
       "\n",
       "     c_charge_degree  is_recid score_text  two_year_recid  \n",
       "1                  F         1        Low               1  \n",
       "2                  F         1        Low               1  \n",
       "3                  F         0       High               0  \n",
       "6                  F         1     Medium               1  \n",
       "8                  M         0        Low               0  \n",
       "...              ...       ...        ...             ...  \n",
       "7207               M         1        Low               1  \n",
       "7208               F         0       High               0  \n",
       "7209               F         0     Medium               0  \n",
       "7210               F         0        Low               0  \n",
       "7212               M         0        Low               0  \n",
       "\n",
       "[6150 rows x 16 columns]"
      ]
     },
     "execution_count": 9,
     "metadata": {},
     "output_type": "execute_result"
    }
   ],
   "source": [
    "processed_data"
   ]
  },
  {
   "cell_type": "markdown",
   "id": "df405d6c",
   "metadata": {
    "id": "df405d6c"
   },
   "source": [
    "According to the ProPublica COMPAS notebook (https://github.com/propublica/compas-analysis/blob/master/Compas%20Analysis.ipynb) there are a number of reasons to remove rows because of missing data:\n",
    "- If the charge date of a defendants Compas scored crime was not within 30 days from when the person was arrested, we can assume that because of data quality reasons, that we do not have the right offense.\n",
    "- The recidivist flag (is_recid) should be -1 if we could not find a compas case at all.\n",
    "- Ordinary traffic offenses (c_charge_degree = 'O') will not result in Jail time and hence are removed (only two of them).\n",
    "- We filtered the underlying data from Broward county to include only those rows representing people who had either recidivated in two years, or had at least two years outside of a correctional facility."
   ]
  },
  {
   "cell_type": "code",
   "execution_count": 10,
   "id": "0aa94b7d",
   "metadata": {
    "id": "0aa94b7d"
   },
   "outputs": [],
   "source": [
    "# If the charge date of a defendants Compas scored crime was not within 30 days from when the person was arrested, \n",
    "# we can assume that because of data quality reasons, that we do not have the right offense.\n",
    "\n",
    "processed_data = processed_data.loc[processed_data['days_b_screening_arrest'] <= 30]\n",
    "processed_data = processed_data.loc[processed_data['days_b_screening_arrest'] >= -30]"
   ]
  },
  {
   "cell_type": "code",
   "execution_count": 11,
   "id": "a7fc4d4b",
   "metadata": {
    "id": "a7fc4d4b"
   },
   "outputs": [],
   "source": [
    "# The recidivist flag (is_recid) should be -1 if we could not find a compas case at all.\n",
    "\n",
    "processed_data = processed_data.loc[processed_data['is_recid'] != -1]"
   ]
  },
  {
   "cell_type": "code",
   "execution_count": 12,
   "id": "7cc73fb3",
   "metadata": {
    "id": "7cc73fb3"
   },
   "outputs": [],
   "source": [
    "# Ordinary traffic offenses (c_charge_degree = 'O') will not result in Jail time and hence are removed \n",
    "# (only two of them).\n",
    "\n",
    "processed_data = processed_data.loc[processed_data['c_charge_degree'] != 'O']"
   ]
  },
  {
   "cell_type": "code",
   "execution_count": 13,
   "id": "c47176c1",
   "metadata": {
    "id": "c47176c1"
   },
   "outputs": [],
   "source": [
    "# score_text shouldn't be 'N/A'\n",
    "\n",
    "processed_data = processed_data.loc[processed_data['score_text'] != 'N/A']"
   ]
  },
  {
   "cell_type": "code",
   "execution_count": 14,
   "id": "dfccba52",
   "metadata": {
    "id": "dfccba52"
   },
   "outputs": [],
   "source": [
    "processed_data['length_of_stay'] = (pd.to_datetime(processed_data['c_jail_out'])-pd.to_datetime(processed_data['c_jail_in'])).apply(lambda x: x.days)"
   ]
  },
  {
   "cell_type": "code",
   "execution_count": 15,
   "id": "26d2cbce",
   "metadata": {
    "id": "26d2cbce"
   },
   "outputs": [],
   "source": [
    "processed_data = processed_data.drop(columns=['c_jail_in', 'c_jail_out'])"
   ]
  },
  {
   "cell_type": "markdown",
   "id": "0b4d4934",
   "metadata": {
    "id": "0b4d4934"
   },
   "source": [
    "### 2.3) Create indicator values out of columns"
   ]
  },
  {
   "cell_type": "code",
   "execution_count": 16,
   "id": "d52afeb5",
   "metadata": {
    "id": "d52afeb5"
   },
   "outputs": [],
   "source": [
    "# replace the values of the sensitive attribute race as follows: Caucasian -> 1, African-American -> 0\n",
    "processed_data = processed_data.replace({'race': 'Caucasian'}, 1)\n",
    "processed_data = processed_data.replace({'race': 'African-American'}, 0)"
   ]
  },
  {
   "cell_type": "code",
   "execution_count": 17,
   "id": "6c1b1cc4",
   "metadata": {
    "id": "6c1b1cc4"
   },
   "outputs": [],
   "source": [
    "# replace the values of sex as follows\n",
    "processed_data = processed_data.replace({'sex': 'Male'}, 1)\n",
    "processed_data = processed_data.replace({'sex': 'Female'}, 0)\n",
    "\n",
    "# replace the values of age_cat as follows\n",
    "processed_data = processed_data.replace({'age_cat': 'Less than 25'}, 0)\n",
    "processed_data = processed_data.replace({'age_cat': '25 - 45'}, 1)\n",
    "processed_data = processed_data.replace({'age_cat': 'Greater than 45'}, 2)\n",
    "\n",
    "# replace the values of c_charge_degree as follows\n",
    "processed_data = processed_data.replace({'c_charge_degree': 'F'}, 0)\n",
    "processed_data = processed_data.replace({'c_charge_degree': 'M'}, 1)\n",
    "\n",
    "# replace the values of score_text as follows\n",
    "processed_data = processed_data.replace({'score_text': 'Low'}, 0)\n",
    "processed_data = processed_data.replace({'score_text': 'Medium'}, 1)\n",
    "processed_data = processed_data.replace({'score_text': 'High'}, 2)"
   ]
  },
  {
   "cell_type": "markdown",
   "id": "8758a992",
   "metadata": {
    "id": "8758a992"
   },
   "source": [
    "### 2.4) Check for NaN values"
   ]
  },
  {
   "cell_type": "code",
   "execution_count": 18,
   "id": "817bba57",
   "metadata": {
    "colab": {
     "base_uri": "https://localhost:8080/",
     "height": 520
    },
    "id": "817bba57",
    "outputId": "a3030e10-80c6-497d-9cab-701b5dd7edf6"
   },
   "outputs": [
    {
     "data": {
      "text/html": [
       "<style  type=\"text/css\" >\n",
       "</style><table id=\"T_6065d_\" ><thead>    <tr>        <th class=\"col_heading level0 col0\" >column name</th>        <th class=\"col_heading level0 col1\" ># of unique values</th>        <th class=\"col_heading level0 col2\" ># of NaN values</th>    </tr></thead><tbody>\n",
       "                <tr>\n",
       "                                <td id=\"T_6065d_row0_col0\" class=\"data row0 col0\" >sex</td>\n",
       "                        <td id=\"T_6065d_row0_col1\" class=\"data row0 col1\" >2</td>\n",
       "                        <td id=\"T_6065d_row0_col2\" class=\"data row0 col2\" >0</td>\n",
       "            </tr>\n",
       "            <tr>\n",
       "                                <td id=\"T_6065d_row1_col0\" class=\"data row1 col0\" >age</td>\n",
       "                        <td id=\"T_6065d_row1_col1\" class=\"data row1 col1\" >62</td>\n",
       "                        <td id=\"T_6065d_row1_col2\" class=\"data row1 col2\" >0</td>\n",
       "            </tr>\n",
       "            <tr>\n",
       "                                <td id=\"T_6065d_row2_col0\" class=\"data row2 col0\" >age_cat</td>\n",
       "                        <td id=\"T_6065d_row2_col1\" class=\"data row2 col1\" >3</td>\n",
       "                        <td id=\"T_6065d_row2_col2\" class=\"data row2 col2\" >0</td>\n",
       "            </tr>\n",
       "            <tr>\n",
       "                                <td id=\"T_6065d_row3_col0\" class=\"data row3 col0\" >race</td>\n",
       "                        <td id=\"T_6065d_row3_col1\" class=\"data row3 col1\" >2</td>\n",
       "                        <td id=\"T_6065d_row3_col2\" class=\"data row3 col2\" >0</td>\n",
       "            </tr>\n",
       "            <tr>\n",
       "                                <td id=\"T_6065d_row4_col0\" class=\"data row4 col0\" >decile_score</td>\n",
       "                        <td id=\"T_6065d_row4_col1\" class=\"data row4 col1\" >10</td>\n",
       "                        <td id=\"T_6065d_row4_col2\" class=\"data row4 col2\" >0</td>\n",
       "            </tr>\n",
       "            <tr>\n",
       "                                <td id=\"T_6065d_row5_col0\" class=\"data row5 col0\" >juv_fel_count</td>\n",
       "                        <td id=\"T_6065d_row5_col1\" class=\"data row5 col1\" >9</td>\n",
       "                        <td id=\"T_6065d_row5_col2\" class=\"data row5 col2\" >0</td>\n",
       "            </tr>\n",
       "            <tr>\n",
       "                                <td id=\"T_6065d_row6_col0\" class=\"data row6 col0\" >juv_misd_count</td>\n",
       "                        <td id=\"T_6065d_row6_col1\" class=\"data row6 col1\" >10</td>\n",
       "                        <td id=\"T_6065d_row6_col2\" class=\"data row6 col2\" >0</td>\n",
       "            </tr>\n",
       "            <tr>\n",
       "                                <td id=\"T_6065d_row7_col0\" class=\"data row7 col0\" >juv_other_count</td>\n",
       "                        <td id=\"T_6065d_row7_col1\" class=\"data row7 col1\" >8</td>\n",
       "                        <td id=\"T_6065d_row7_col2\" class=\"data row7 col2\" >0</td>\n",
       "            </tr>\n",
       "            <tr>\n",
       "                                <td id=\"T_6065d_row8_col0\" class=\"data row8 col0\" >priors_count</td>\n",
       "                        <td id=\"T_6065d_row8_col1\" class=\"data row8 col1\" >36</td>\n",
       "                        <td id=\"T_6065d_row8_col2\" class=\"data row8 col2\" >0</td>\n",
       "            </tr>\n",
       "            <tr>\n",
       "                                <td id=\"T_6065d_row9_col0\" class=\"data row9 col0\" >days_b_screening_arrest</td>\n",
       "                        <td id=\"T_6065d_row9_col1\" class=\"data row9 col1\" >56</td>\n",
       "                        <td id=\"T_6065d_row9_col2\" class=\"data row9 col2\" >0</td>\n",
       "            </tr>\n",
       "            <tr>\n",
       "                                <td id=\"T_6065d_row10_col0\" class=\"data row10 col0\" >c_charge_degree</td>\n",
       "                        <td id=\"T_6065d_row10_col1\" class=\"data row10 col1\" >2</td>\n",
       "                        <td id=\"T_6065d_row10_col2\" class=\"data row10 col2\" >0</td>\n",
       "            </tr>\n",
       "            <tr>\n",
       "                                <td id=\"T_6065d_row11_col0\" class=\"data row11 col0\" >is_recid</td>\n",
       "                        <td id=\"T_6065d_row11_col1\" class=\"data row11 col1\" >2</td>\n",
       "                        <td id=\"T_6065d_row11_col2\" class=\"data row11 col2\" >0</td>\n",
       "            </tr>\n",
       "            <tr>\n",
       "                                <td id=\"T_6065d_row12_col0\" class=\"data row12 col0\" >score_text</td>\n",
       "                        <td id=\"T_6065d_row12_col1\" class=\"data row12 col1\" >3</td>\n",
       "                        <td id=\"T_6065d_row12_col2\" class=\"data row12 col2\" >0</td>\n",
       "            </tr>\n",
       "            <tr>\n",
       "                                <td id=\"T_6065d_row13_col0\" class=\"data row13 col0\" >two_year_recid</td>\n",
       "                        <td id=\"T_6065d_row13_col1\" class=\"data row13 col1\" >2</td>\n",
       "                        <td id=\"T_6065d_row13_col2\" class=\"data row13 col2\" >0</td>\n",
       "            </tr>\n",
       "            <tr>\n",
       "                                <td id=\"T_6065d_row14_col0\" class=\"data row14 col0\" >length_of_stay</td>\n",
       "                        <td id=\"T_6065d_row14_col1\" class=\"data row14 col1\" >232</td>\n",
       "                        <td id=\"T_6065d_row14_col2\" class=\"data row14 col2\" >0</td>\n",
       "            </tr>\n",
       "    </tbody></table>"
      ],
      "text/plain": [
       "<pandas.io.formats.style.Styler at 0x13f531c70>"
      ]
     },
     "execution_count": 18,
     "metadata": {},
     "output_type": "execute_result"
    }
   ],
   "source": [
    "# check whether there are NaN values in the final dataset as well as the number of unique values per column\n",
    "\n",
    "unique_NAN_df = pd.DataFrame(columns=['column name', '# of unique values', '# of NaN values'])\n",
    "for item in processed_data.columns:\n",
    "    unique_NAN_df = unique_NAN_df.append({\n",
    "        'column name': item, \n",
    "        '# of unique values': len(processed_data[item].unique()),\n",
    "        '# of NaN values': sum(processed_data[item].isna() == True)}, ignore_index = True)\n",
    "    \n",
    "unique_NAN_df = unique_NAN_df.style.hide_index()\n",
    "unique_NAN_df"
   ]
  },
  {
   "cell_type": "code",
   "execution_count": 19,
   "id": "3c8a0225",
   "metadata": {
    "id": "3c8a0225"
   },
   "outputs": [],
   "source": [
    "# move two_year_recid to the end\n",
    "\n",
    "cols = list(processed_data.columns.values)\n",
    "cols.pop(cols.index('two_year_recid'))\n",
    "processed_data = processed_data[cols+['two_year_recid']]"
   ]
  },
  {
   "cell_type": "code",
   "execution_count": 20,
   "id": "74c65c83",
   "metadata": {
    "id": "74c65c83"
   },
   "outputs": [],
   "source": [
    "# move race to the first column\n",
    "\n",
    "race_column = processed_data.pop('race')\n",
    "processed_data.insert(0, 'race', race_column)"
   ]
  },
  {
   "cell_type": "code",
   "execution_count": 21,
   "id": "4e4a7dc8",
   "metadata": {
    "colab": {
     "base_uri": "https://localhost:8080/",
     "height": 488
    },
    "id": "4e4a7dc8",
    "outputId": "e17cc3ac-f100-41c8-a855-d9c9f94358cc"
   },
   "outputs": [
    {
     "data": {
      "text/html": [
       "<div>\n",
       "<style scoped>\n",
       "    .dataframe tbody tr th:only-of-type {\n",
       "        vertical-align: middle;\n",
       "    }\n",
       "\n",
       "    .dataframe tbody tr th {\n",
       "        vertical-align: top;\n",
       "    }\n",
       "\n",
       "    .dataframe thead th {\n",
       "        text-align: right;\n",
       "    }\n",
       "</style>\n",
       "<table border=\"1\" class=\"dataframe\">\n",
       "  <thead>\n",
       "    <tr style=\"text-align: right;\">\n",
       "      <th></th>\n",
       "      <th>race</th>\n",
       "      <th>sex</th>\n",
       "      <th>age</th>\n",
       "      <th>age_cat</th>\n",
       "      <th>decile_score</th>\n",
       "      <th>juv_fel_count</th>\n",
       "      <th>juv_misd_count</th>\n",
       "      <th>juv_other_count</th>\n",
       "      <th>priors_count</th>\n",
       "      <th>days_b_screening_arrest</th>\n",
       "      <th>c_charge_degree</th>\n",
       "      <th>is_recid</th>\n",
       "      <th>score_text</th>\n",
       "      <th>length_of_stay</th>\n",
       "      <th>two_year_recid</th>\n",
       "    </tr>\n",
       "  </thead>\n",
       "  <tbody>\n",
       "    <tr>\n",
       "      <th>1</th>\n",
       "      <td>0</td>\n",
       "      <td>1</td>\n",
       "      <td>34</td>\n",
       "      <td>1</td>\n",
       "      <td>3</td>\n",
       "      <td>0</td>\n",
       "      <td>0</td>\n",
       "      <td>0</td>\n",
       "      <td>0</td>\n",
       "      <td>-1.0</td>\n",
       "      <td>0</td>\n",
       "      <td>1</td>\n",
       "      <td>0</td>\n",
       "      <td>10</td>\n",
       "      <td>1</td>\n",
       "    </tr>\n",
       "    <tr>\n",
       "      <th>2</th>\n",
       "      <td>0</td>\n",
       "      <td>1</td>\n",
       "      <td>24</td>\n",
       "      <td>0</td>\n",
       "      <td>4</td>\n",
       "      <td>0</td>\n",
       "      <td>0</td>\n",
       "      <td>1</td>\n",
       "      <td>4</td>\n",
       "      <td>-1.0</td>\n",
       "      <td>0</td>\n",
       "      <td>1</td>\n",
       "      <td>0</td>\n",
       "      <td>1</td>\n",
       "      <td>1</td>\n",
       "    </tr>\n",
       "    <tr>\n",
       "      <th>6</th>\n",
       "      <td>1</td>\n",
       "      <td>1</td>\n",
       "      <td>41</td>\n",
       "      <td>1</td>\n",
       "      <td>6</td>\n",
       "      <td>0</td>\n",
       "      <td>0</td>\n",
       "      <td>0</td>\n",
       "      <td>14</td>\n",
       "      <td>-1.0</td>\n",
       "      <td>0</td>\n",
       "      <td>1</td>\n",
       "      <td>1</td>\n",
       "      <td>6</td>\n",
       "      <td>1</td>\n",
       "    </tr>\n",
       "    <tr>\n",
       "      <th>8</th>\n",
       "      <td>1</td>\n",
       "      <td>0</td>\n",
       "      <td>39</td>\n",
       "      <td>1</td>\n",
       "      <td>1</td>\n",
       "      <td>0</td>\n",
       "      <td>0</td>\n",
       "      <td>0</td>\n",
       "      <td>0</td>\n",
       "      <td>-1.0</td>\n",
       "      <td>1</td>\n",
       "      <td>0</td>\n",
       "      <td>0</td>\n",
       "      <td>2</td>\n",
       "      <td>0</td>\n",
       "    </tr>\n",
       "    <tr>\n",
       "      <th>10</th>\n",
       "      <td>1</td>\n",
       "      <td>1</td>\n",
       "      <td>27</td>\n",
       "      <td>1</td>\n",
       "      <td>4</td>\n",
       "      <td>0</td>\n",
       "      <td>0</td>\n",
       "      <td>0</td>\n",
       "      <td>0</td>\n",
       "      <td>-1.0</td>\n",
       "      <td>0</td>\n",
       "      <td>0</td>\n",
       "      <td>0</td>\n",
       "      <td>1</td>\n",
       "      <td>0</td>\n",
       "    </tr>\n",
       "    <tr>\n",
       "      <th>...</th>\n",
       "      <td>...</td>\n",
       "      <td>...</td>\n",
       "      <td>...</td>\n",
       "      <td>...</td>\n",
       "      <td>...</td>\n",
       "      <td>...</td>\n",
       "      <td>...</td>\n",
       "      <td>...</td>\n",
       "      <td>...</td>\n",
       "      <td>...</td>\n",
       "      <td>...</td>\n",
       "      <td>...</td>\n",
       "      <td>...</td>\n",
       "      <td>...</td>\n",
       "      <td>...</td>\n",
       "    </tr>\n",
       "    <tr>\n",
       "      <th>7207</th>\n",
       "      <td>0</td>\n",
       "      <td>1</td>\n",
       "      <td>30</td>\n",
       "      <td>1</td>\n",
       "      <td>2</td>\n",
       "      <td>0</td>\n",
       "      <td>0</td>\n",
       "      <td>0</td>\n",
       "      <td>0</td>\n",
       "      <td>-1.0</td>\n",
       "      <td>1</td>\n",
       "      <td>1</td>\n",
       "      <td>0</td>\n",
       "      <td>0</td>\n",
       "      <td>1</td>\n",
       "    </tr>\n",
       "    <tr>\n",
       "      <th>7208</th>\n",
       "      <td>0</td>\n",
       "      <td>1</td>\n",
       "      <td>20</td>\n",
       "      <td>0</td>\n",
       "      <td>9</td>\n",
       "      <td>0</td>\n",
       "      <td>0</td>\n",
       "      <td>0</td>\n",
       "      <td>0</td>\n",
       "      <td>-1.0</td>\n",
       "      <td>0</td>\n",
       "      <td>0</td>\n",
       "      <td>2</td>\n",
       "      <td>0</td>\n",
       "      <td>0</td>\n",
       "    </tr>\n",
       "    <tr>\n",
       "      <th>7209</th>\n",
       "      <td>0</td>\n",
       "      <td>1</td>\n",
       "      <td>23</td>\n",
       "      <td>0</td>\n",
       "      <td>7</td>\n",
       "      <td>0</td>\n",
       "      <td>0</td>\n",
       "      <td>0</td>\n",
       "      <td>0</td>\n",
       "      <td>-1.0</td>\n",
       "      <td>0</td>\n",
       "      <td>0</td>\n",
       "      <td>1</td>\n",
       "      <td>1</td>\n",
       "      <td>0</td>\n",
       "    </tr>\n",
       "    <tr>\n",
       "      <th>7210</th>\n",
       "      <td>0</td>\n",
       "      <td>1</td>\n",
       "      <td>23</td>\n",
       "      <td>0</td>\n",
       "      <td>3</td>\n",
       "      <td>0</td>\n",
       "      <td>0</td>\n",
       "      <td>0</td>\n",
       "      <td>0</td>\n",
       "      <td>-1.0</td>\n",
       "      <td>0</td>\n",
       "      <td>0</td>\n",
       "      <td>0</td>\n",
       "      <td>1</td>\n",
       "      <td>0</td>\n",
       "    </tr>\n",
       "    <tr>\n",
       "      <th>7212</th>\n",
       "      <td>0</td>\n",
       "      <td>0</td>\n",
       "      <td>33</td>\n",
       "      <td>1</td>\n",
       "      <td>2</td>\n",
       "      <td>0</td>\n",
       "      <td>0</td>\n",
       "      <td>0</td>\n",
       "      <td>3</td>\n",
       "      <td>-1.0</td>\n",
       "      <td>1</td>\n",
       "      <td>0</td>\n",
       "      <td>0</td>\n",
       "      <td>1</td>\n",
       "      <td>0</td>\n",
       "    </tr>\n",
       "  </tbody>\n",
       "</table>\n",
       "<p>5278 rows × 15 columns</p>\n",
       "</div>"
      ],
      "text/plain": [
       "      race  sex  age  age_cat  decile_score  juv_fel_count  juv_misd_count  \\\n",
       "1        0    1   34        1             3              0               0   \n",
       "2        0    1   24        0             4              0               0   \n",
       "6        1    1   41        1             6              0               0   \n",
       "8        1    0   39        1             1              0               0   \n",
       "10       1    1   27        1             4              0               0   \n",
       "...    ...  ...  ...      ...           ...            ...             ...   \n",
       "7207     0    1   30        1             2              0               0   \n",
       "7208     0    1   20        0             9              0               0   \n",
       "7209     0    1   23        0             7              0               0   \n",
       "7210     0    1   23        0             3              0               0   \n",
       "7212     0    0   33        1             2              0               0   \n",
       "\n",
       "      juv_other_count  priors_count  days_b_screening_arrest  c_charge_degree  \\\n",
       "1                   0             0                     -1.0                0   \n",
       "2                   1             4                     -1.0                0   \n",
       "6                   0            14                     -1.0                0   \n",
       "8                   0             0                     -1.0                1   \n",
       "10                  0             0                     -1.0                0   \n",
       "...               ...           ...                      ...              ...   \n",
       "7207                0             0                     -1.0                1   \n",
       "7208                0             0                     -1.0                0   \n",
       "7209                0             0                     -1.0                0   \n",
       "7210                0             0                     -1.0                0   \n",
       "7212                0             3                     -1.0                1   \n",
       "\n",
       "      is_recid  score_text  length_of_stay  two_year_recid  \n",
       "1            1           0              10               1  \n",
       "2            1           0               1               1  \n",
       "6            1           1               6               1  \n",
       "8            0           0               2               0  \n",
       "10           0           0               1               0  \n",
       "...        ...         ...             ...             ...  \n",
       "7207         1           0               0               1  \n",
       "7208         0           2               0               0  \n",
       "7209         0           1               1               0  \n",
       "7210         0           0               1               0  \n",
       "7212         0           0               1               0  \n",
       "\n",
       "[5278 rows x 15 columns]"
      ]
     },
     "execution_count": 21,
     "metadata": {},
     "output_type": "execute_result"
    }
   ],
   "source": [
    "processed_data"
   ]
  },
  {
   "cell_type": "code",
   "execution_count": 22,
   "id": "738272cd",
   "metadata": {
    "id": "738272cd"
   },
   "outputs": [],
   "source": [
    "processed_data = processed_data.drop(columns=['age', 'juv_fel_count', 'juv_misd_count', 'juv_other_count'])"
   ]
  },
  {
   "cell_type": "code",
   "execution_count": 23,
   "id": "82f84e3f",
   "metadata": {
    "id": "82f84e3f"
   },
   "outputs": [],
   "source": [
    "# save final data set to csv\n",
    "\n",
    "processed_data.to_csv(\"../output/processed-compas-scores-two-years.csv\", index=False)"
   ]
  },
  {
   "cell_type": "markdown",
   "id": "36083f52",
   "metadata": {
    "id": "36083f52"
   },
   "source": [
    "## 3) Split data"
   ]
  },
  {
   "cell_type": "markdown",
   "id": "f5450007",
   "metadata": {
    "id": "f5450007"
   },
   "source": [
    "We will first get the labels and the sensitive data."
   ]
  },
  {
   "cell_type": "code",
   "execution_count": 24,
   "id": "d69dd9e0",
   "metadata": {
    "id": "d69dd9e0"
   },
   "outputs": [],
   "source": [
    "data = np.array(processed_data)\n",
    "y = np.array(data[:,-1]).flatten()\n",
    "data = data[:,:-1]\n",
    "sensitive = data[:,0]\n",
    "data = preprocessing.scale(data)\n",
    "data = data[:,1:]"
   ]
  },
  {
   "cell_type": "markdown",
   "id": "bddd585e",
   "metadata": {
    "id": "bddd585e"
   },
   "source": [
    "Split data into sensitive and nonsensitive data (sensitive --> race: Caucasian)"
   ]
  },
  {
   "cell_type": "code",
   "execution_count": 26,
   "id": "b5f1b96b",
   "metadata": {
    "id": "b5f1b96b"
   },
   "outputs": [],
   "source": [
    "sensitive_idx = np.array(np.where(sensitive==1))[0].flatten()\n",
    "nonsensitive_idx = np.array(np.where(sensitive!=1))[0].flatten()\n",
    "data_sensitive = data[sensitive_idx,:]\n",
    "data_nonsensitive = data[nonsensitive_idx,:]\n",
    "y_sensitive = y[sensitive_idx]\n",
    "y_nonsensitive = y[nonsensitive_idx]"
   ]
  },
  {
   "cell_type": "markdown",
   "id": "75764c54",
   "metadata": {
    "id": "75764c54"
   },
   "source": [
    "Split data into training, validation, and testing sets (training: validation: testing = 6:2:2)."
   ]
  },
  {
   "cell_type": "code",
   "execution_count": 27,
   "id": "f8826970",
   "metadata": {
    "id": "f8826970"
   },
   "outputs": [],
   "source": [
    "# split sensitive data into training, validation, and testing sets\n",
    "\n",
    "X_train_s, X_test_s, y_train_s, y_test_s = train_test_split(data_sensitive, y_sensitive, test_size= 0.2, random_state=42)\n",
    "X_train_s, X_valid_s, y_train_s, y_valid_s = train_test_split(X_train_s, y_train_s, test_size = 0.25, random_state=42)"
   ]
  },
  {
   "cell_type": "code",
   "execution_count": 28,
   "id": "cf1dae58",
   "metadata": {
    "id": "cf1dae58"
   },
   "outputs": [],
   "source": [
    "# split non-sensitive data into training, validation, and testing sets\n",
    "\n",
    "X_train_n, X_test_n, y_train_n, y_test_n = train_test_split(data_nonsensitive, y_nonsensitive, test_size= 0.2, random_state=42)\n",
    "X_train_n, X_valid_n, y_train_n, y_valid_n = train_test_split(X_train_n, y_train_n, test_size = 0.25, random_state=42)"
   ]
  },
  {
   "cell_type": "code",
   "execution_count": 29,
   "id": "a12807a4",
   "metadata": {
    "id": "a12807a4"
   },
   "outputs": [],
   "source": [
    "# create final training, validation, and testing sets\n",
    "\n",
    "X_train = np.concatenate((X_train_s, X_train_n))\n",
    "X_valid = np.concatenate((X_valid_s, X_valid_n))\n",
    "X_test = np.concatenate((X_test_s, X_test_n))\n",
    "\n",
    "Y_train = np.concatenate((y_train_s, y_train_n))\n",
    "Y_valid = np.concatenate((y_valid_s, y_valid_n))\n",
    "Y_test = np.concatenate((y_test_s, y_test_n))"
   ]
  },
  {
   "cell_type": "markdown",
   "id": "effe8343",
   "metadata": {
    "id": "effe8343"
   },
   "source": [
    "##  4) Learning Fair Representations (LFR)"
   ]
  },
  {
   "cell_type": "code",
   "execution_count": 45,
   "id": "d1577d55",
   "metadata": {},
   "outputs": [],
   "source": [
    "import sys\n",
    "\n",
    "sys.path.append('../lib/')\n",
    "import LFR\n",
    "\n",
    "sys.path.append('../lib/')\n",
    "from EvalMetrics import *\n",
    "\n",
    "sys.path.append('../lib/')\n",
    "%run '../lib/LFR.py'\n",
    "\n",
    "sys.path.append('../lib/')\n",
    "%run '../lib/EvalMetrics.py'"
   ]
  },
  {
   "cell_type": "markdown",
   "id": "cVaZUxYFVE7Z",
   "metadata": {
    "id": "cVaZUxYFVE7Z"
   },
   "source": [
    "### 4.1) Checking for best number of interations (cross validation)"
   ]
  },
  {
   "cell_type": "code",
   "execution_count": 37,
   "id": "-cTbig1hzm05",
   "metadata": {
    "colab": {
     "base_uri": "https://localhost:8080/"
    },
    "id": "-cTbig1hzm05",
    "outputId": "bbaca134-3587-4f66-c03b-211a5f36ef25"
   },
   "outputs": [
    {
     "name": "stdout",
     "output_type": "stream",
     "text": [
      "Finished for 100 iterations in 306.8652307987213 secs\n",
      "Finished for 200 iterations in 447.8896050453186 secs\n",
      "Finished for 300 iterations in 444.3408987522125 secs\n",
      "Finished for 400 iterations in 591.8047559261322 secs\n",
      "Finished for 500 iterations in 741.7820808887482 secs\n",
      "Finished for 600 iterations in 887.2942533493042 secs\n",
      "Finished for 700 iterations in 1031.751314163208 secs\n",
      "Finished for 800 iterations in 1029.604287147522 secs\n",
      "Finished for 900 iterations in 1361.9073469638824 secs\n",
      "Finished for 1000 iterations in 1616.1541967391968 secs\n",
      "Finished for 1100 iterations in 1456.9709899425507 secs\n",
      "Finished for 1200 iterations in 1601.153074979782 secs\n",
      "Finished for 1300 iterations in 1756.151284456253 secs\n",
      "Finished for 1400 iterations in 1909.3943445682526 secs\n",
      "Finished for 1500 iterations in 2208.3647351264954 secs\n"
     ]
    }
   ],
   "source": [
    "iter_max = 1500\n",
    "\n",
    "model_train_time = []\n",
    "train_Accuracy = []\n",
    "val_Accuracy = []\n",
    "train_Calibration = []\n",
    "val_Calibration = []\n",
    "\n",
    "best_accuracy = 0\n",
    "\n",
    "for i in range(100, iter_max+100, 100):\n",
    "\n",
    "    #model training\n",
    "    start = time.time()\n",
    "    #random.seed(1024); np.random.seed(1024)\n",
    "    final_parameters = LFR(X_train_s, X_train_n, y_train_s, y_train_n, 10, 1e-4, 0.1, 1000, iter = i)\n",
    "    model_train_time.append(time.time() - start)\n",
    "\n",
    "    #Train set accuracy and calibration\n",
    "    pred_train_s, pred_train_n = predict(final_parameters, X_train_s, X_train_n, 10)\n",
    "    acc_sen, acc_nsen, total_accuracy = calc_accuracy(pred_train_s, pred_train_n, y_train_s, y_train_n)\n",
    "    train_Accuracy.append(total_accuracy)\n",
    "\n",
    "    calibration = calc_calibration(acc_sen, acc_nsen)\n",
    "    train_Calibration.append(calibration)\n",
    "\n",
    "    #Validation set accuracy and calibration\n",
    "    pred_val_s, pred_val_n = predict(final_parameters, X_valid_s, X_valid_n, 10)\n",
    "    acc_sen, acc_nsen, total_accuracy = calc_accuracy(pred_val_s, pred_val_n, y_valid_s, y_valid_n)\n",
    "    val_Accuracy.append(total_accuracy)\n",
    "\n",
    "    calibration = calc_calibration(acc_sen, acc_nsen)\n",
    "    val_Calibration.append(calibration)\n",
    "\n",
    "    if total_accuracy > best_accuracy:\n",
    "    best_accuracy = total_accuracy\n",
    "    best_model = copy.deepcopy(final_parameters)\n",
    "\n",
    "    print(\"Finished for \" + str(i) + \" iterations in \" + str(time.time() - start) + \" secs\")"
   ]
  },
  {
   "cell_type": "code",
   "execution_count": 39,
   "id": "NvJxnmTzGYzp",
   "metadata": {
    "colab": {
     "base_uri": "https://localhost:8080/"
    },
    "id": "NvJxnmTzGYzp",
    "outputId": "504cb400-7712-46a8-b354-852d7bd99c23"
   },
   "outputs": [
    {
     "name": "stdout",
     "output_type": "stream",
     "text": [
      "Mounted at /content/drive\n"
     ]
    }
   ],
   "source": [
    "# from google.colab import drive\n",
    "# drive.mount('/content/drive', force_remount=True)"
   ]
  },
  {
   "cell_type": "code",
   "execution_count": 40,
   "id": "8ZxFNrGWF7Cy",
   "metadata": {
    "id": "8ZxFNrGWF7Cy"
   },
   "outputs": [],
   "source": [
    "import pickle\n",
    "\n",
    "filename = 'best_model.sav'\n",
    "pickle.dump(best_model, open(filename, 'wb'))\n",
    "\n",
    "# !cp \"best_model.sav\" \"/content/drive/My Drive/Colab Notebooks/ADS Proj 4\""
   ]
  },
  {
   "cell_type": "code",
   "execution_count": 41,
   "id": "DzWhvnhuTcyn",
   "metadata": {
    "colab": {
     "base_uri": "https://localhost:8080/"
    },
    "id": "DzWhvnhuTcyn",
    "outputId": "e8d0af1c-bfaa-49c2-b59c-d06a4c72d072"
   },
   "outputs": [
    {
     "name": "stdout",
     "output_type": "stream",
     "text": [
      "[100, 200, 300, 400, 500, 600, 700, 800, 900, 1000, 1100, 1200, 1300, 1400, 1500]\n",
      "[305.7239451408386, 446.75790548324585, 443.2332410812378, 590.6827621459961, 740.6412780284882, 886.1439714431763, 1030.6187875270844, 1028.476889848709, 1360.7818098068237, 1615.0316441059113, 1455.8666932582855, 1600.0446200370789, 1755.049386024475, 1908.2708160877228, 2207.2562866210938]\n",
      "[0.4895767530006317, 0.4965255843335439, 0.47978521794061907, 0.5874921036007581, 0.3382817435249526, 0.5789639924194567, 0.7037271004421983, 0.5922299431459255, 0.47820593809222994, 0.3060644346178143, 0.344914718888187, 0.3998736576121289, 0.5221099178774479, 0.5448515476942514, 0.6538218572331017]\n",
      "[0.4734848484848485, 0.4914772727272727, 0.4393939393939394, 0.6060606060606061, 0.3446969696969697, 0.5767045454545454, 0.6998106060606061, 0.6013257575757576, 0.48579545454545453, 0.30303030303030304, 0.32765151515151514, 0.39299242424242425, 0.5321969696969697, 0.5596590909090909, 0.6893939393939394]\n",
      "[0.14544470600968695, 0.01434099088129448, 0.011873674394982936, 0.08194055045260495, 0.05459858754769059, 0.06599478395890446, 0.03110392327049527, 0.10437951798451839, 0.019792648837214155, 0.05410570704831602, 0.08426674659323413, 0.08993820260968571, 0.03608642892675684, 0.08954481403543824, 0.06659714720433929]\n",
      "[0.18698636542166203, 0.031948678624198146, 0.004009950062655421, 0.1139544017805375, 0.09038846391231975, 0.1058335047786485, 0.08445209194456393, 0.13367871771372997, 0.07315540426805317, 0.013526100211345315, 0.10247068285110444, 0.08077879813716876, 0.011633343931771067, 0.14766865543232277, 0.08202442628163165]\n"
     ]
    }
   ],
   "source": [
    "iterations = [i for i in range(100, iter_max+100, 100)]\n",
    "\n",
    "print(iterations)\n",
    "print(model_train_time)\n",
    "print(train_Accuracy)\n",
    "print(val_Accuracy)\n",
    "print(train_Calibration)\n",
    "print(val_Calibration)"
   ]
  },
  {
   "cell_type": "code",
   "execution_count": 42,
   "id": "XYpWNgoyTeZS",
   "metadata": {
    "colab": {
     "base_uri": "https://localhost:8080/",
     "height": 265
    },
    "id": "XYpWNgoyTeZS",
    "outputId": "c08361a3-9608-4c57-df9b-39bf7062be0e"
   },
   "outputs": [
    {
     "data": {
      "image/png": "[encoded data removed]",
      "text/plain": [
       "<Figure size 432x288 with 1 Axes>"
      ]
     },
     "metadata": {
      "needs_background": "light"
     },
     "output_type": "display_data"
    }
   ],
   "source": [
    "import matplotlib.pyplot as plt\n",
    "\n",
    "plt.plot(iterations, train_Accuracy, label = \"train accuracy\")\n",
    "plt.plot(iterations, val_Accuracy, label = \"val accuracy\")\n",
    "plt.legend()\n",
    "plt.savefig(\"accuracy.png\")\n",
    "plt.show()\n",
    "\n",
    "# !cp \"accuracy.png\" \"/content/drive/My Drive/Colab Notebooks/ADS Proj 4\""
   ]
  },
  {
   "cell_type": "code",
   "execution_count": 43,
   "id": "ToTcWl4qKIsq",
   "metadata": {
    "colab": {
     "base_uri": "https://localhost:8080/",
     "height": 265
    },
    "id": "ToTcWl4qKIsq",
    "outputId": "66da3253-c5d3-4cb2-d5d8-fcd9f9303663"
   },
   "outputs": [
    {
     "data": {
      "image/png": "[encoded data removed]",
      "text/plain": [
       "<Figure size 432x288 with 1 Axes>"
      ]
     },
     "metadata": {
      "needs_background": "light"
     },
     "output_type": "display_data"
    }
   ],
   "source": [
    "plt.plot(iterations, train_Calibration, label = \"train calibration\")\n",
    "plt.plot(iterations, val_Calibration, label = \"val calibration\")\n",
    "plt.legend()\n",
    "plt.savefig(\"calibration.png\")\n",
    "plt.show()\n",
    "\n",
    "# !cp \"calibration.png\" \"/content/drive/My Drive/Colab Notebooks/ADS Proj 4\""
   ]
  },
  {
   "cell_type": "code",
   "execution_count": 44,
   "id": "qYYPvgm4KUnK",
   "metadata": {
    "id": "qYYPvgm4KUnK"
   },
   "outputs": [],
   "source": [
    "# Saving the iterations data\n",
    "\n",
    "df = pd.DataFrame(list(zip(iterations, model_train_time, train_Accuracy, val_Accuracy, train_Calibration, val_Calibration)), \n",
    "                  columns =['iterations', 'model_train_time', 'train_Accuracy', 'val_Accuracy', 'train_Calibration', 'val_Calibration'])"
   ]
  },
  {
   "cell_type": "code",
   "execution_count": 45,
   "id": "cPUlHwsKLDKB",
   "metadata": {
    "id": "cPUlHwsKLDKB"
   },
   "outputs": [],
   "source": [
    "df.to_csv(\"All_iterations_info.csv\", index=False)\n",
    "\n",
    "# !cp \"All_iterations_info.csv\" \"/content/drive/My Drive/Colab Notebooks/ADS Proj 4\""
   ]
  },
  {
   "cell_type": "markdown",
   "id": "afdedfe0",
   "metadata": {
    "id": "gpr12u7MTSxD"
   },
   "source": [
    "#### Read best LFR model (trained) "
   ]
  },
  {
   "cell_type": "code",
   "execution_count": 46,
   "id": "7aaa906c",
   "metadata": {},
   "outputs": [],
   "source": [
    "sys.path.append('../lib/')\n",
    "%run '../lib/LFR.py'\n",
    "\n",
    "sys.path.append('../lib/')\n",
    "%run '../lib/EvalMetrics.py'"
   ]
  },
  {
   "cell_type": "code",
   "execution_count": 47,
   "id": "8058a909",
   "metadata": {},
   "outputs": [],
   "source": [
    "filename = '../output/best_model.sav'\n",
    "loaded_model = pickle.load(open(filename, 'rb'))"
   ]
  },
  {
   "cell_type": "markdown",
   "id": "3e1ed4ad",
   "metadata": {},
   "source": [
    "##### Training Set"
   ]
  },
  {
   "cell_type": "code",
   "execution_count": 48,
   "id": "e9fe0813",
   "metadata": {},
   "outputs": [
    {
     "name": "stdout",
     "output_type": "stream",
     "text": [
      "The accuracy for Caucasians is:  0.7224425059476606\n",
      "The accuracy for African-Americans is:  0.6913385826771653\n",
      "The total accuracy is:  0.7037271004421983\n",
      "The calibration is:  0.03110392327049527\n"
     ]
    }
   ],
   "source": [
    "# get predictions for the training dataset\n",
    "\n",
    "pred_train_s, pred_train_n = predict(loaded_model, X_train_s, X_train_n, 10)\n",
    "\n",
    "# get accuracy for the training dataset\n",
    "\n",
    "acc_sen, acc_nsen, total_accuracy = calc_accuracy(pred_train_s, pred_train_n, y_train_s, y_train_n)\n",
    "\n",
    "print(\"The accuracy for Caucasians is: \", acc_sen)\n",
    "print(\"The accuracy for African-Americans is: \", acc_nsen)\n",
    "print(\"The total accuracy is: \", total_accuracy)\n",
    "\n",
    "# get calibration for the training dataset\n",
    "\n",
    "calibration = calc_calibration(acc_sen, acc_nsen)\n",
    "\n",
    "print(\"The calibration is: \", calibration)"
   ]
  },
  {
   "cell_type": "markdown",
   "id": "2b497a58",
   "metadata": {},
   "source": [
    "##### Validation Set"
   ]
  },
  {
   "cell_type": "code",
   "execution_count": 49,
   "id": "ba86c488",
   "metadata": {},
   "outputs": [
    {
     "name": "stdout",
     "output_type": "stream",
     "text": [
      "The accuracy for Caucasians is:  0.7505938242280285\n",
      "The accuracy for African-Americans is:  0.6661417322834645\n",
      "The total accuracy is:  0.6998106060606061\n",
      "The calibration is:  0.08445209194456393\n"
     ]
    }
   ],
   "source": [
    "# get predictions for the validation dataset\n",
    "\n",
    "pred_val_s, pred_val_n = predict(loaded_model, X_valid_s, X_valid_n, 10)\n",
    "\n",
    "# get accuracy for the validation dataset\n",
    "\n",
    "acc_sen, acc_nsen, total_accuracy = calc_accuracy(pred_val_s, pred_val_n, y_valid_s, y_valid_n)\n",
    "\n",
    "print(\"The accuracy for Caucasians is: \", acc_sen)\n",
    "print(\"The accuracy for African-Americans is: \", acc_nsen)\n",
    "print(\"The total accuracy is: \", total_accuracy)\n",
    "\n",
    "# get calibration for the validation dataset\n",
    "\n",
    "calibration = calc_calibration(acc_sen, acc_nsen)\n",
    "\n",
    "print(\"The calibration is: \", calibration)"
   ]
  },
  {
   "cell_type": "markdown",
   "id": "b03aeb47",
   "metadata": {},
   "source": [
    "# 5) Evaluation"
   ]
  },
  {
   "cell_type": "markdown",
   "id": "d8515fb7",
   "metadata": {},
   "source": [
    "We will now evaluate the model using the test data (10% of the data)."
   ]
  },
  {
   "cell_type": "code",
   "execution_count": 51,
   "id": "aff7c84c",
   "metadata": {},
   "outputs": [],
   "source": [
    "# get predictions for the testing dataset\n",
    "\n",
    "pred_test_s, pred_test_n = predict(loaded_model, X_test_s, X_test_n, 10)"
   ]
  },
  {
   "cell_type": "code",
   "execution_count": 52,
   "id": "1845cbf8",
   "metadata": {},
   "outputs": [],
   "source": [
    "sys.path.append('../lib/')\n",
    "%run '../lib/EvalMetrics.py'"
   ]
  },
  {
   "cell_type": "markdown",
   "id": "ce4eb305",
   "metadata": {},
   "source": [
    "#### LFR accuracy and f1-score on sensitive, nonsensitive, and all data."
   ]
  },
  {
   "cell_type": "code",
   "execution_count": 53,
   "id": "01b7a6d8",
   "metadata": {},
   "outputs": [
    {
     "data": {
      "text/markdown": [
       "#### Sensitive data (Caucasians):"
      ],
      "text/plain": [
       "<IPython.core.display.Markdown object>"
      ]
     },
     "metadata": {},
     "output_type": "display_data"
    },
    {
     "name": "stdout",
     "output_type": "stream",
     "text": [
      "Accuracy: 0.7125890736342043\n",
      "F1 score: 0.5254901960784313\n"
     ]
    },
    {
     "data": {
      "text/markdown": [
       "#### Nonsensitive data (African-Americans):"
      ],
      "text/plain": [
       "<IPython.core.display.Markdown object>"
      ]
     },
     "metadata": {},
     "output_type": "display_data"
    },
    {
     "name": "stdout",
     "output_type": "stream",
     "text": [
      "Accuracy: 0.6850393700787402\n",
      "F1 score: 0.6062992125984252\n"
     ]
    },
    {
     "data": {
      "text/markdown": [
       "#### All data:"
      ],
      "text/plain": [
       "<IPython.core.display.Markdown object>"
      ]
     },
     "metadata": {},
     "output_type": "display_data"
    },
    {
     "name": "stdout",
     "output_type": "stream",
     "text": [
      "Accuracy: 0.6960227272727273\n",
      "F1 score: 0.5792922673656619\n"
     ]
    },
    {
     "data": {
      "image/png": "[encoded data removed]",
      "text/plain": [
       "<Figure size 1080x432 with 6 Axes>"
      ]
     },
     "metadata": {
      "needs_background": "light"
     },
     "output_type": "display_data"
    }
   ],
   "source": [
    "pred_test = np.concatenate((pred_test_s, pred_test_n))\n",
    "y_test = np.concatenate((y_test_s, y_test_n))\n",
    "\n",
    "plot_model_performance(pred_test_s, pred_test_n, pred_test, y_test_s, y_test_n, y_test)"
   ]
  },
  {
   "cell_type": "markdown",
   "id": "54c1d2b2",
   "metadata": {},
   "source": [
    "#### LFR bias metrics"
   ]
  },
  {
   "cell_type": "code",
   "execution_count": 54,
   "id": "1675b5c3",
   "metadata": {},
   "outputs": [],
   "source": [
    "fair_metrics = fair_metrics(pred_test_s, pred_test_n, pred_test, y_test_s, y_test_n, y_test)"
   ]
  },
  {
   "cell_type": "code",
   "execution_count": 55,
   "id": "85bcc70e",
   "metadata": {},
   "outputs": [
    {
     "data": {
      "text/markdown": [
       "### Check bias metrics :"
      ],
      "text/plain": [
       "<IPython.core.display.Markdown object>"
      ]
     },
     "metadata": {},
     "output_type": "display_data"
    },
    {
     "data": {
      "text/markdown": [
       "A model can be considered bias if just one of these four metrics show that this model is biased."
      ],
      "text/plain": [
       "<IPython.core.display.Markdown object>"
      ]
     },
     "metadata": {},
     "output_type": "display_data"
    },
    {
     "data": {
      "text/markdown": [
       "#### For the Race attribute :"
      ],
      "text/plain": [
       "<IPython.core.display.Markdown object>"
      ]
     },
     "metadata": {},
     "output_type": "display_data"
    },
    {
     "data": {
      "text/markdown": [
       "With default thresholds, bias against unprivileged group detected in **1** out of 4 metrics"
      ],
      "text/plain": [
       "<IPython.core.display.Markdown object>"
      ]
     },
     "metadata": {},
     "output_type": "display_data"
    },
    {
     "data": {
      "text/html": [
       "<div>\n",
       "<style scoped>\n",
       "    .dataframe tbody tr th:only-of-type {\n",
       "        vertical-align: middle;\n",
       "    }\n",
       "\n",
       "    .dataframe tbody tr th {\n",
       "        vertical-align: top;\n",
       "    }\n",
       "\n",
       "    .dataframe thead th {\n",
       "        text-align: right;\n",
       "    }\n",
       "</style>\n",
       "<table border=\"1\" class=\"dataframe\">\n",
       "  <thead>\n",
       "    <tr style=\"text-align: right;\">\n",
       "      <th></th>\n",
       "      <th>calibration</th>\n",
       "      <th>equal_opportunity_difference</th>\n",
       "      <th>average_abs_odds_difference</th>\n",
       "      <th>disparate_impact</th>\n",
       "    </tr>\n",
       "  </thead>\n",
       "  <tbody>\n",
       "    <tr>\n",
       "      <th>objective</th>\n",
       "      <td>0.00000</td>\n",
       "      <td>0.000000</td>\n",
       "      <td>0.00000</td>\n",
       "      <td>1.000000</td>\n",
       "    </tr>\n",
       "    <tr>\n",
       "      <th>Race</th>\n",
       "      <td>0.02755</td>\n",
       "      <td>-0.083375</td>\n",
       "      <td>0.04907</td>\n",
       "      <td>1.040216</td>\n",
       "    </tr>\n",
       "  </tbody>\n",
       "</table>\n",
       "</div>"
      ],
      "text/plain": [
       "           calibration  equal_opportunity_difference  \\\n",
       "objective      0.00000                      0.000000   \n",
       "Race           0.02755                     -0.083375   \n",
       "\n",
       "           average_abs_odds_difference  disparate_impact  \n",
       "objective                      0.00000          1.000000  \n",
       "Race                           0.04907          1.040216  "
      ]
     },
     "metadata": {},
     "output_type": "display_data"
    },
    {
     "data": {
      "image/png": "[encoded data removed]",
      "text/plain": [
       "<Figure size 1440x288 with 4 Axes>"
      ]
     },
     "metadata": {
      "needs_background": "light"
     },
     "output_type": "display_data"
    }
   ],
   "source": [
    "plot_fair_metrics(fair_metrics)\n",
    "display(fair_metrics)"
   ]
  }
 ],
 "metadata": {
  "accelerator": "TPU",
  "colab": {
   "collapsed_sections": [],
   "name": "LFR-Aakanksha.ipynb",
   "provenance": []
  },
  "interpreter": {
   "hash": "b3ba2566441a7c06988d0923437866b63cedc61552a5af99d1f4fb67d367b25f"
  },
  "kernelspec": {
   "display_name": "Python 3 (ipykernel)",
   "language": "python",
   "name": "python3"
  },
  "language_info": {
   "codemirror_mode": {
    "name": "ipython",
    "version": 3
   },
   "file_extension": ".py",
   "mimetype": "text/x-python",
   "name": "python",
   "nbconvert_exporter": "python",
   "pygments_lexer": "ipython3",
   "version": "3.9.6"
  }
 },
 "nbformat": 4,
 "nbformat_minor": 5
}
